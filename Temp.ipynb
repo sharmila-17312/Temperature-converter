{
  "nbformat": 4,
  "nbformat_minor": 0,
  "metadata": {
    "colab": {
      "provenance": []
    },
    "kernelspec": {
      "name": "python3",
      "display_name": "Python 3"
    },
    "language_info": {
      "name": "python"
    }
  },
  "cells": [
    {
      "cell_type": "code",
      "source": [
        "def convert_temperature(temp, unit_from, unit_to):\n",
        "    if unit_from == \"C\" and unit_to == \"F\":\n",
        "        return temp * 9/5 + 32\n",
        "    elif unit_from == \"C\" and unit_to == \"K\":\n",
        "        return temp + 273.15\n",
        "    elif unit_from == \"F\" and unit_to == \"C\":\n",
        "        return (temp - 32) * 5/9\n",
        "    elif unit_from == \"F\" and unit_to == \"K\":\n",
        "        return (temp - 32) * 5/9 + 273.15\n",
        "    elif unit_from == \"K\" and unit_to == \"C\":\n",
        "        return temp - 273.15\n",
        "    elif unit_from == \"K\" and unit_to == \"F\":\n",
        "        return (temp - 273.15) * 9/5 + 32\n",
        "    else:\n",
        "        return temp\n",
        "\n",
        "temp = float(input(\"Enter temperature: \"))\n",
        "unit_from = input(\"Enter unit to convert from (C/F/K): \")\n",
        "unit_to = input(\"Enter unit to convert to (C/F/K): \")\n",
        "\n",
        "converted_temp = convert_temperature(temp, unit_from, unit_to)\n",
        "print(f\"{temp} {unit_from} = {converted_temp:.2f} {unit_to}\")\n"
      ],
      "metadata": {
        "colab": {
          "base_uri": "https://localhost:8080/"
        },
        "id": "xFFt_0pHdPf7",
        "outputId": "817e0d08-4707-4ed2-8fb6-900bb104ab03"
      },
      "execution_count": 12,
      "outputs": [
        {
          "output_type": "stream",
          "name": "stdout",
          "text": [
            "Enter temperature: 25\n",
            "Enter unit to convert from (C/F/K): C\n",
            "Enter unit to convert to (C/F/K): F\n",
            "25.0 C = 77.00 F\n"
          ]
        }
      ]
    }
  ]
}